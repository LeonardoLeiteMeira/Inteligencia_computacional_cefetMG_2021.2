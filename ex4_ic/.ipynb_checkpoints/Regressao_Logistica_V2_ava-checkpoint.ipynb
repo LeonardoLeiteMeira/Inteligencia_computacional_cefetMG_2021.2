{
 "cells": [
  {
   "cell_type": "markdown",
   "metadata": {
    "run_control": {
     "marked": true
    }
   },
   "source": [
    "#  Logistic Regression and Classification Error Metrics"
   ]
  },
  {
   "cell_type": "markdown",
   "metadata": {},
   "source": [
    "# Alunos:\n",
    "    - Leonardo Leite Meira - 20183005069\n",
    "    - Rafael Silvério de Sá Lopes - 20183012994"
   ]
  },
  {
   "cell_type": "markdown",
   "metadata": {
    "run_control": {
     "marked": true
    }
   },
   "source": [
    "## Introduction\n",
    "\n",
    "We will be using the [Human Activity Recognition with Smartphones](https://archive.ics.uci.edu/ml/datasets/Human+Activity+Recognition+Using+Smartphones) database, which was built from the recordings of study participants performing activities of daily living (ADL) while carrying a smartphone with an embedded inertial sensors. The objective is to classify activities into one of the six activities (walking, walking upstairs, walking downstairs, sitting, standing, and laying) performed.\n",
    "\n",
    "For each record in the dataset it is provided: \n",
    "\n",
    "- Triaxial acceleration from the accelerometer (total acceleration) and the estimated body acceleration. \n",
    "- Triaxial Angular velocity from the gyroscope. \n",
    "- A 561-feature vector with time and frequency domain variables. \n",
    "- Its activity label. \n",
    "\n",
    "More information about the features is available on the website: above or at https://www.kaggle.com/uciml/human-activity-recognition-with-smartphones "
   ]
  },
  {
   "cell_type": "code",
   "execution_count": 1,
   "metadata": {
    "run_control": {
     "marked": true
    }
   },
   "outputs": [],
   "source": [
    "from __future__ import print_function\n",
    "import os\n",
    "#Data Path has to be set as per the file location in your system\n",
    "#data_path = ['..', 'data']\n",
    "data_path = ['.']"
   ]
  },
  {
   "cell_type": "markdown",
   "metadata": {
    "run_control": {
     "marked": true
    }
   },
   "source": [
    "## Question 1\n",
    "\n",
    "Import the data and do the following:\n",
    "\n",
    "* Examine the data types--there are many columns, so it might be wise to use value counts\n",
    "* Determine if the floating point values need to be scaled\n",
    "* Determine the breakdown of each activity\n",
    "* Encode the activity label as an integer"
   ]
  },
  {
   "cell_type": "code",
   "execution_count": 2,
   "metadata": {
    "run_control": {
     "marked": true
    }
   },
   "outputs": [],
   "source": [
    "import pandas as pd\n",
    "import numpy as np\n",
    "#The filepath is dependent on the data_path set in the previous cell \n",
    "filepath = os.sep.join(data_path + ['Human_Activity_Recognition_Using_Smartphones_Data.csv'])\n",
    "data = pd.read_csv(filepath, sep=',')"
   ]
  },
  {
   "cell_type": "markdown",
   "metadata": {
    "run_control": {
     "marked": true
    }
   },
   "source": [
    "The data columns are all floats except for the activity label."
   ]
  },
  {
   "cell_type": "code",
   "execution_count": 3,
   "metadata": {
    "run_control": {
     "marked": true
    }
   },
   "outputs": [
    {
     "data": {
      "text/plain": [
       "float64    561\n",
       "object       1\n",
       "dtype: int64"
      ]
     },
     "execution_count": 3,
     "metadata": {},
     "output_type": "execute_result"
    }
   ],
   "source": [
    "data.dtypes.value_counts()"
   ]
  },
  {
   "cell_type": "code",
   "execution_count": 4,
   "metadata": {
    "run_control": {
     "marked": true
    }
   },
   "outputs": [
    {
     "data": {
      "text/plain": [
       "angle(tBodyGyroJerkMean,gravityMean)    float64\n",
       "angle(X,gravityMean)                    float64\n",
       "angle(Y,gravityMean)                    float64\n",
       "angle(Z,gravityMean)                    float64\n",
       "Activity                                 object\n",
       "dtype: object"
      ]
     },
     "execution_count": 4,
     "metadata": {},
     "output_type": "execute_result"
    }
   ],
   "source": [
    "data.dtypes.tail()"
   ]
  },
  {
   "cell_type": "markdown",
   "metadata": {
    "run_control": {
     "marked": true
    }
   },
   "source": [
    "The data are all scaled from -1 (minimum) to 1.0 (maximum)."
   ]
  },
  {
   "cell_type": "code",
   "execution_count": 5,
   "metadata": {
    "run_control": {
     "marked": true
    }
   },
   "outputs": [
    {
     "data": {
      "text/plain": [
       "-1.0    561\n",
       "dtype: int64"
      ]
     },
     "execution_count": 5,
     "metadata": {},
     "output_type": "execute_result"
    }
   ],
   "source": [
    "data.iloc[:, :-1].min().value_counts()"
   ]
  },
  {
   "cell_type": "code",
   "execution_count": 6,
   "metadata": {
    "run_control": {
     "marked": true
    }
   },
   "outputs": [
    {
     "data": {
      "text/plain": [
       "1.0    561\n",
       "dtype: int64"
      ]
     },
     "execution_count": 6,
     "metadata": {},
     "output_type": "execute_result"
    }
   ],
   "source": [
    "data.iloc[:, :-1].max().value_counts()"
   ]
  },
  {
   "cell_type": "markdown",
   "metadata": {},
   "source": [
    "Examine the breakdown of activities--they are relatively balanced."
   ]
  },
  {
   "cell_type": "code",
   "execution_count": 7,
   "metadata": {},
   "outputs": [
    {
     "data": {
      "text/plain": [
       "LAYING                1944\n",
       "STANDING              1906\n",
       "SITTING               1777\n",
       "WALKING               1722\n",
       "WALKING_UPSTAIRS      1544\n",
       "WALKING_DOWNSTAIRS    1406\n",
       "Name: Activity, dtype: int64"
      ]
     },
     "execution_count": 7,
     "metadata": {},
     "output_type": "execute_result"
    }
   ],
   "source": [
    "data.Activity.value_counts()"
   ]
  },
  {
   "cell_type": "markdown",
   "metadata": {},
   "source": [
    "Scikit learn classifiers won't accept a sparse matrix for the prediction column. Thus, either `LabelEncoder` needs to be used to convert the activity labels to integers, or if `DictVectorizer` is used, the resulting matrix must be converted to a non-sparse array.  \n",
    "Use `LabelEncoder` to fit_transform the \"Activity\" column, and look at 5 random values."
   ]
  },
  {
   "cell_type": "code",
   "execution_count": 8,
   "metadata": {},
   "outputs": [
    {
     "data": {
      "text/plain": [
       "5340    0\n",
       "6017    4\n",
       "7118    4\n",
       "2361    5\n",
       "4287    0\n",
       "Name: Activity, dtype: int64"
      ]
     },
     "execution_count": 8,
     "metadata": {},
     "output_type": "execute_result"
    }
   ],
   "source": [
    "from sklearn.preprocessing import LabelEncoder\n",
    "\n",
    "le = LabelEncoder()\n",
    "data['Activity'] = le.fit_transform(data.Activity)\n",
    "data['Activity'].sample(5)"
   ]
  },
  {
   "cell_type": "markdown",
   "metadata": {},
   "source": [
    "## Question 2\n",
    "\n",
    "* Calculate the correlations between the dependent variables.\n",
    "* Create a histogram of the correlation values\n",
    "* Identify those that are most correlated (either positively or negatively)."
   ]
  },
  {
   "cell_type": "code",
   "execution_count": 9,
   "metadata": {},
   "outputs": [],
   "source": [
    "# Calculate the correlation values\n",
    "feature_cols = data.columns[:-1]\n",
    "corr_values = data[feature_cols].corr()\n",
    "\n",
    "# Simplify by emptying all the data below the diagonal\n",
    "tril_index = np.tril_indices_from(corr_values)\n",
    "\n",
    "# Make the unused values NaNs\n",
    "for coord in zip(*tril_index):\n",
    "    corr_values.iloc[coord[0], coord[1]] = np.NaN\n",
    "    \n",
    "# Stack the data and convert to a data frame\n",
    "corr_values = (corr_values.stack().to_frame().reset_index().rename(columns={'level_0':'feature1','level_1':'feature2',0:'correlation'}))\n",
    "\n",
    "# Get the absolute values for sorting\n",
    "corr_values['abs_correlation'] = corr_values.correlation.abs()"
   ]
  },
  {
   "cell_type": "markdown",
   "metadata": {},
   "source": [
    "A histogram of the absolute value correlations."
   ]
  },
  {
   "cell_type": "code",
   "execution_count": 10,
   "metadata": {},
   "outputs": [],
   "source": [
    "import matplotlib.pyplot as plt\n",
    "import seaborn as sns\n",
    "%matplotlib inline"
   ]
  },
  {
   "cell_type": "code",
   "execution_count": 11,
   "metadata": {},
   "outputs": [
    {
     "data": {
      "image/png": "[encoded data removed]",
      "text/plain": [
       "<Figure size 432x288 with 1 Axes>"
      ]
     },
     "metadata": {},
     "output_type": "display_data"
    }
   ],
   "source": [
    "sns.set_context('talk')\n",
    "sns.set_style('white')\n",
    "sns.set_palette('dark')\n",
    "\n",
    "ax = corr_values.abs_correlation.hist(bins=50)\n",
    "\n",
    "ax.set(xlabel='Absolute Correlation', ylabel='Frequency');"
   ]
  },
  {
   "cell_type": "code",
   "execution_count": 12,
   "metadata": {},
   "outputs": [
    {
     "data": {
      "text/html": [
       "<div>\n",
       "<style scoped>\n",
       "    .dataframe tbody tr th:only-of-type {\n",
       "        vertical-align: middle;\n",
       "    }\n",
       "\n",
       "    .dataframe tbody tr th {\n",
       "        vertical-align: top;\n",
       "    }\n",
       "\n",
       "    .dataframe thead th {\n",
       "        text-align: right;\n",
       "    }\n",
       "</style>\n",
       "<table border=\"1\" class=\"dataframe\">\n",
       "  <thead>\n",
       "    <tr style=\"text-align: right;\">\n",
       "      <th></th>\n",
       "      <th>feature1</th>\n",
       "      <th>feature2</th>\n",
       "      <th>correlation</th>\n",
       "      <th>abs_correlation</th>\n",
       "    </tr>\n",
       "  </thead>\n",
       "  <tbody>\n",
       "    <tr>\n",
       "      <th>156894</th>\n",
       "      <td>fBodyBodyGyroJerkMag-mean()</td>\n",
       "      <td>fBodyBodyGyroJerkMag-sma()</td>\n",
       "      <td>1.000000</td>\n",
       "      <td>1.000000</td>\n",
       "    </tr>\n",
       "    <tr>\n",
       "      <th>93902</th>\n",
       "      <td>tBodyAccMag-sma()</td>\n",
       "      <td>tGravityAccMag-sma()</td>\n",
       "      <td>1.000000</td>\n",
       "      <td>1.000000</td>\n",
       "    </tr>\n",
       "    <tr>\n",
       "      <th>101139</th>\n",
       "      <td>tBodyAccJerkMag-mean()</td>\n",
       "      <td>tBodyAccJerkMag-sma()</td>\n",
       "      <td>1.000000</td>\n",
       "      <td>1.000000</td>\n",
       "    </tr>\n",
       "    <tr>\n",
       "      <th>96706</th>\n",
       "      <td>tGravityAccMag-mean()</td>\n",
       "      <td>tGravityAccMag-sma()</td>\n",
       "      <td>1.000000</td>\n",
       "      <td>1.000000</td>\n",
       "    </tr>\n",
       "    <tr>\n",
       "      <th>94257</th>\n",
       "      <td>tBodyAccMag-energy()</td>\n",
       "      <td>tGravityAccMag-energy()</td>\n",
       "      <td>1.000000</td>\n",
       "      <td>1.000000</td>\n",
       "    </tr>\n",
       "    <tr>\n",
       "      <th>...</th>\n",
       "      <td>...</td>\n",
       "      <td>...</td>\n",
       "      <td>...</td>\n",
       "      <td>...</td>\n",
       "    </tr>\n",
       "    <tr>\n",
       "      <th>22657</th>\n",
       "      <td>tGravityAcc-mean()-Y</td>\n",
       "      <td>angle(Y,gravityMean)</td>\n",
       "      <td>-0.993425</td>\n",
       "      <td>0.993425</td>\n",
       "    </tr>\n",
       "    <tr>\n",
       "      <th>39225</th>\n",
       "      <td>tGravityAcc-arCoeff()-Z,3</td>\n",
       "      <td>tGravityAcc-arCoeff()-Z,4</td>\n",
       "      <td>-0.994267</td>\n",
       "      <td>0.994267</td>\n",
       "    </tr>\n",
       "    <tr>\n",
       "      <th>38739</th>\n",
       "      <td>tGravityAcc-arCoeff()-Z,2</td>\n",
       "      <td>tGravityAcc-arCoeff()-Z,3</td>\n",
       "      <td>-0.994628</td>\n",
       "      <td>0.994628</td>\n",
       "    </tr>\n",
       "    <tr>\n",
       "      <th>23176</th>\n",
       "      <td>tGravityAcc-mean()-Z</td>\n",
       "      <td>angle(Z,gravityMean)</td>\n",
       "      <td>-0.994764</td>\n",
       "      <td>0.994764</td>\n",
       "    </tr>\n",
       "    <tr>\n",
       "      <th>38252</th>\n",
       "      <td>tGravityAcc-arCoeff()-Z,1</td>\n",
       "      <td>tGravityAcc-arCoeff()-Z,2</td>\n",
       "      <td>-0.995195</td>\n",
       "      <td>0.995195</td>\n",
       "    </tr>\n",
       "  </tbody>\n",
       "</table>\n",
       "<p>22815 rows × 4 columns</p>\n",
       "</div>"
      ],
      "text/plain": [
       "                           feature1                    feature2  correlation  \\\n",
       "156894  fBodyBodyGyroJerkMag-mean()  fBodyBodyGyroJerkMag-sma()     1.000000   \n",
       "93902             tBodyAccMag-sma()        tGravityAccMag-sma()     1.000000   \n",
       "101139       tBodyAccJerkMag-mean()       tBodyAccJerkMag-sma()     1.000000   \n",
       "96706         tGravityAccMag-mean()        tGravityAccMag-sma()     1.000000   \n",
       "94257          tBodyAccMag-energy()     tGravityAccMag-energy()     1.000000   \n",
       "...                             ...                         ...          ...   \n",
       "22657          tGravityAcc-mean()-Y        angle(Y,gravityMean)    -0.993425   \n",
       "39225     tGravityAcc-arCoeff()-Z,3   tGravityAcc-arCoeff()-Z,4    -0.994267   \n",
       "38739     tGravityAcc-arCoeff()-Z,2   tGravityAcc-arCoeff()-Z,3    -0.994628   \n",
       "23176          tGravityAcc-mean()-Z        angle(Z,gravityMean)    -0.994764   \n",
       "38252     tGravityAcc-arCoeff()-Z,1   tGravityAcc-arCoeff()-Z,2    -0.995195   \n",
       "\n",
       "        abs_correlation  \n",
       "156894         1.000000  \n",
       "93902          1.000000  \n",
       "101139         1.000000  \n",
       "96706          1.000000  \n",
       "94257          1.000000  \n",
       "...                 ...  \n",
       "22657          0.993425  \n",
       "39225          0.994267  \n",
       "38739          0.994628  \n",
       "23176          0.994764  \n",
       "38252          0.995195  \n",
       "\n",
       "[22815 rows x 4 columns]"
      ]
     },
     "execution_count": 12,
     "metadata": {},
     "output_type": "execute_result"
    }
   ],
   "source": [
    "# The most highly correlated values\n",
    "corr_values.sort_values('correlation', ascending=False).query('abs_correlation>0.8')"
   ]
  },
  {
   "cell_type": "markdown",
   "metadata": {},
   "source": [
    "## Question 3\n",
    "\n",
    "* Split the data into train and test data sets. This can be done using any method, but consider using Scikit-learn's `StratifiedShuffleSplit` to maintain the same ratio of predictor classes.\n",
    "* Regardless of methods used to split the data, compare the ratio of classes in both the train and test splits.\n"
   ]
  },
  {
   "cell_type": "code",
   "execution_count": 13,
   "metadata": {},
   "outputs": [],
   "source": [
    "from sklearn.model_selection import StratifiedShuffleSplit\n",
    "\n",
    "# Get the split indexes\n",
    "strat_shuf_split = StratifiedShuffleSplit(n_splits=1,test_size=0.3, random_state=42)\n",
    "\n",
    "train_idx, test_idx = next(strat_shuf_split.split(data[feature_cols], data.Activity))\n",
    "\n",
    "# Create the dataframes\n",
    "X_train = data.loc[train_idx, feature_cols]\n",
    "y_train = data.loc[train_idx, 'Activity']\n",
    "\n",
    "X_test  = data.loc[test_idx, feature_cols]\n",
    "y_test  = data.loc[test_idx, 'Activity']\n"
   ]
  },
  {
   "cell_type": "code",
   "execution_count": 14,
   "metadata": {},
   "outputs": [
    {
     "data": {
      "text/plain": [
       "0    0.188792\n",
       "2    0.185046\n",
       "1    0.172562\n",
       "3    0.167152\n",
       "5    0.149951\n",
       "4    0.136496\n",
       "Name: Activity, dtype: float64"
      ]
     },
     "execution_count": 14,
     "metadata": {},
     "output_type": "execute_result"
    }
   ],
   "source": [
    "y_train.value_counts(normalize=True)"
   ]
  },
  {
   "cell_type": "code",
   "execution_count": 15,
   "metadata": {},
   "outputs": [
    {
     "data": {
      "text/plain": [
       "0    0.188673\n",
       "2    0.185113\n",
       "1    0.172492\n",
       "3    0.167314\n",
       "5    0.149838\n",
       "4    0.136570\n",
       "Name: Activity, dtype: float64"
      ]
     },
     "execution_count": 15,
     "metadata": {},
     "output_type": "execute_result"
    }
   ],
   "source": [
    "y_test.value_counts(normalize=True)"
   ]
  },
  {
   "cell_type": "markdown",
   "metadata": {},
   "source": [
    "## Question 4\n",
    "\n",
    "* Fit a logistic regression model without any regularization using all of the features. Be sure to read the documentation about fitting a multi-class model so you understand the coefficient output. Store the model.\n",
    "* Using cross validation to determine the hyperparameters, fit models using L1, and L2 regularization. Store each of these models as well. Note the limitations on multi-class models, solvers, and regularizations. The regularized models, in particular the L1 model, will probably take a while to fit."
   ]
  },
  {
   "cell_type": "code",
   "execution_count": 16,
   "metadata": {},
   "outputs": [
    {
     "data": {
      "text/plain": [
       "array([[-232.7756002 ,   37.95392659,   52.31191586, ..., 2090.73334833,\n",
       "        -849.27146842, -214.42279089],\n",
       "       [-687.57726164, -257.34988411,  109.92618764, ..., -233.15297675,\n",
       "        -329.75818698, -250.03761042],\n",
       "       [ 284.22614846,  198.22869144,  211.42364094, ..., -837.82965779,\n",
       "         641.9351792 ,   40.50713493],\n",
       "       [  29.82548382,  -46.36790954,    3.96756888, ..., -375.03289766,\n",
       "          64.98501201,  203.82755087],\n",
       "       [ 427.13207395,   92.1777491 ,    7.26276413, ..., -738.82286126,\n",
       "         -45.99250164,  -19.33523486],\n",
       "       [ 179.16915561,  -24.64257348, -384.89207745, ...,   94.10504513,\n",
       "         518.10196583,  239.46095038]])"
      ]
     },
     "execution_count": 16,
     "metadata": {},
     "output_type": "execute_result"
    }
   ],
   "source": [
    "from sklearn.linear_model import LogisticRegression\n",
    "\n",
    "# Standard logistic regression\n",
    "lr = LogisticRegression(max_iter=500, penalty='none').fit(X_train, y_train)\n",
    "lr.coef_"
   ]
  },
  {
   "cell_type": "code",
   "execution_count": 17,
   "metadata": {},
   "outputs": [],
   "source": [
    "from sklearn.linear_model import LogisticRegressionCV\n",
    "\n",
    "# L1 regularized logistic regression\n",
    "lr_l1 = LogisticRegressionCV(Cs=10, cv=4, penalty='l1', solver='liblinear').fit(X_train, y_train)"
   ]
  },
  {
   "cell_type": "code",
   "execution_count": 18,
   "metadata": {},
   "outputs": [],
   "source": [
    "#Try with different solvers like ‘newton-cg’, ‘lbfgs’, ‘sag’, ‘saga’ and give your observations"
   ]
  },
  {
   "cell_type": "code",
   "execution_count": 19,
   "metadata": {},
   "outputs": [],
   "source": [
    "# L2 regularized logistic regression\n",
    "lr_l2 = LogisticRegressionCV(Cs=10, cv=4, penalty='l2', max_iter=10000).fit(X_train, y_train)"
   ]
  },
  {
   "cell_type": "markdown",
   "metadata": {},
   "source": [
    "## Question 5\n",
    "\n",
    "Compare the magnitudes of the coefficients for each of the models. If one-vs-rest fitting was used, each set of coefficients can be plotted separately. "
   ]
  },
  {
   "cell_type": "code",
   "execution_count": 20,
   "metadata": {},
   "outputs": [
    {
     "data": {
      "text/html": [
       "<div>\n",
       "<style scoped>\n",
       "    .dataframe tbody tr th:only-of-type {\n",
       "        vertical-align: middle;\n",
       "    }\n",
       "\n",
       "    .dataframe tbody tr th {\n",
       "        vertical-align: top;\n",
       "    }\n",
       "\n",
       "    .dataframe thead tr th {\n",
       "        text-align: left;\n",
       "    }\n",
       "</style>\n",
       "<table border=\"1\" class=\"dataframe\">\n",
       "  <thead>\n",
       "    <tr>\n",
       "      <th></th>\n",
       "      <th colspan=\"6\" halign=\"left\">lr</th>\n",
       "      <th colspan=\"6\" halign=\"left\">l1</th>\n",
       "      <th colspan=\"6\" halign=\"left\">l2</th>\n",
       "    </tr>\n",
       "    <tr>\n",
       "      <th></th>\n",
       "      <th>0</th>\n",
       "      <th>1</th>\n",
       "      <th>2</th>\n",
       "      <th>3</th>\n",
       "      <th>4</th>\n",
       "      <th>5</th>\n",
       "      <th>0</th>\n",
       "      <th>1</th>\n",
       "      <th>2</th>\n",
       "      <th>3</th>\n",
       "      <th>4</th>\n",
       "      <th>5</th>\n",
       "      <th>0</th>\n",
       "      <th>1</th>\n",
       "      <th>2</th>\n",
       "      <th>3</th>\n",
       "      <th>4</th>\n",
       "      <th>5</th>\n",
       "    </tr>\n",
       "  </thead>\n",
       "  <tbody>\n",
       "    <tr>\n",
       "      <th>381</th>\n",
       "      <td>-66.442169</td>\n",
       "      <td>-7.274305</td>\n",
       "      <td>51.949299</td>\n",
       "      <td>-83.332113</td>\n",
       "      <td>410.979196</td>\n",
       "      <td>-305.879909</td>\n",
       "      <td>-0.015669</td>\n",
       "      <td>0.000000</td>\n",
       "      <td>0.000000</td>\n",
       "      <td>-0.028551</td>\n",
       "      <td>0.593357</td>\n",
       "      <td>-1.134194</td>\n",
       "      <td>-0.020752</td>\n",
       "      <td>-0.046282</td>\n",
       "      <td>-0.035300</td>\n",
       "      <td>-0.011866</td>\n",
       "      <td>0.566373</td>\n",
       "      <td>-0.452173</td>\n",
       "    </tr>\n",
       "    <tr>\n",
       "      <th>390</th>\n",
       "      <td>-85.078449</td>\n",
       "      <td>-5.988962</td>\n",
       "      <td>45.243286</td>\n",
       "      <td>71.955727</td>\n",
       "      <td>193.596118</td>\n",
       "      <td>-219.727720</td>\n",
       "      <td>-0.000041</td>\n",
       "      <td>0.000000</td>\n",
       "      <td>0.000000</td>\n",
       "      <td>-0.178885</td>\n",
       "      <td>0.193137</td>\n",
       "      <td>-0.547342</td>\n",
       "      <td>-0.026653</td>\n",
       "      <td>-0.015256</td>\n",
       "      <td>-0.013645</td>\n",
       "      <td>0.016633</td>\n",
       "      <td>0.203954</td>\n",
       "      <td>-0.165034</td>\n",
       "    </tr>\n",
       "    <tr>\n",
       "      <th>463</th>\n",
       "      <td>41.710498</td>\n",
       "      <td>122.301747</td>\n",
       "      <td>156.050002</td>\n",
       "      <td>117.787343</td>\n",
       "      <td>-418.297769</td>\n",
       "      <td>-19.551820</td>\n",
       "      <td>0.000000</td>\n",
       "      <td>0.261877</td>\n",
       "      <td>0.315564</td>\n",
       "      <td>0.357609</td>\n",
       "      <td>-0.252024</td>\n",
       "      <td>0.413206</td>\n",
       "      <td>-0.016308</td>\n",
       "      <td>0.013475</td>\n",
       "      <td>-0.010624</td>\n",
       "      <td>0.216028</td>\n",
       "      <td>-0.313267</td>\n",
       "      <td>0.110695</td>\n",
       "    </tr>\n",
       "    <tr>\n",
       "      <th>476</th>\n",
       "      <td>37.339245</td>\n",
       "      <td>101.168762</td>\n",
       "      <td>187.656158</td>\n",
       "      <td>-156.129543</td>\n",
       "      <td>-18.743458</td>\n",
       "      <td>-151.291164</td>\n",
       "      <td>-0.040569</td>\n",
       "      <td>0.207697</td>\n",
       "      <td>0.129165</td>\n",
       "      <td>0.000000</td>\n",
       "      <td>0.000000</td>\n",
       "      <td>0.410406</td>\n",
       "      <td>-0.015385</td>\n",
       "      <td>-0.007971</td>\n",
       "      <td>0.017722</td>\n",
       "      <td>0.025853</td>\n",
       "      <td>-0.010829</td>\n",
       "      <td>-0.009389</td>\n",
       "    </tr>\n",
       "    <tr>\n",
       "      <th>69</th>\n",
       "      <td>193.233598</td>\n",
       "      <td>-293.483239</td>\n",
       "      <td>-54.342486</td>\n",
       "      <td>443.715934</td>\n",
       "      <td>179.370920</td>\n",
       "      <td>-468.494727</td>\n",
       "      <td>0.000000</td>\n",
       "      <td>0.000000</td>\n",
       "      <td>0.000000</td>\n",
       "      <td>1.223624</td>\n",
       "      <td>0.000000</td>\n",
       "      <td>-2.159049</td>\n",
       "      <td>0.188957</td>\n",
       "      <td>-0.150086</td>\n",
       "      <td>-0.066996</td>\n",
       "      <td>0.561373</td>\n",
       "      <td>0.098133</td>\n",
       "      <td>-0.631382</td>\n",
       "    </tr>\n",
       "    <tr>\n",
       "      <th>144</th>\n",
       "      <td>-158.904955</td>\n",
       "      <td>-209.891543</td>\n",
       "      <td>-292.577880</td>\n",
       "      <td>134.561974</td>\n",
       "      <td>177.826446</td>\n",
       "      <td>348.985959</td>\n",
       "      <td>0.000000</td>\n",
       "      <td>0.000000</td>\n",
       "      <td>0.028605</td>\n",
       "      <td>0.896523</td>\n",
       "      <td>0.000000</td>\n",
       "      <td>0.000000</td>\n",
       "      <td>0.090100</td>\n",
       "      <td>-0.097368</td>\n",
       "      <td>-0.162793</td>\n",
       "      <td>0.056330</td>\n",
       "      <td>0.010150</td>\n",
       "      <td>0.103581</td>\n",
       "    </tr>\n",
       "    <tr>\n",
       "      <th>534</th>\n",
       "      <td>-23.168949</td>\n",
       "      <td>64.579058</td>\n",
       "      <td>47.425567</td>\n",
       "      <td>-103.434028</td>\n",
       "      <td>150.745548</td>\n",
       "      <td>-136.147196</td>\n",
       "      <td>0.000000</td>\n",
       "      <td>0.065994</td>\n",
       "      <td>0.000000</td>\n",
       "      <td>0.061201</td>\n",
       "      <td>0.328577</td>\n",
       "      <td>-0.432662</td>\n",
       "      <td>-0.014103</td>\n",
       "      <td>0.062038</td>\n",
       "      <td>-0.106541</td>\n",
       "      <td>-0.029408</td>\n",
       "      <td>0.165877</td>\n",
       "      <td>-0.077863</td>\n",
       "    </tr>\n",
       "    <tr>\n",
       "      <th>2</th>\n",
       "      <td>52.311916</td>\n",
       "      <td>109.926188</td>\n",
       "      <td>211.423641</td>\n",
       "      <td>3.967569</td>\n",
       "      <td>7.262764</td>\n",
       "      <td>-384.892077</td>\n",
       "      <td>0.000000</td>\n",
       "      <td>0.000000</td>\n",
       "      <td>0.000000</td>\n",
       "      <td>0.000000</td>\n",
       "      <td>0.000000</td>\n",
       "      <td>0.000000</td>\n",
       "      <td>0.036884</td>\n",
       "      <td>-0.027263</td>\n",
       "      <td>0.224286</td>\n",
       "      <td>0.006178</td>\n",
       "      <td>-0.001595</td>\n",
       "      <td>-0.238490</td>\n",
       "    </tr>\n",
       "    <tr>\n",
       "      <th>121</th>\n",
       "      <td>-108.327328</td>\n",
       "      <td>-772.654050</td>\n",
       "      <td>1046.534762</td>\n",
       "      <td>113.449070</td>\n",
       "      <td>2.061464</td>\n",
       "      <td>-281.063918</td>\n",
       "      <td>0.000000</td>\n",
       "      <td>-0.697787</td>\n",
       "      <td>4.865430</td>\n",
       "      <td>3.526399</td>\n",
       "      <td>-0.085749</td>\n",
       "      <td>-0.991030</td>\n",
       "      <td>-0.115538</td>\n",
       "      <td>-1.062529</td>\n",
       "      <td>1.351037</td>\n",
       "      <td>0.201596</td>\n",
       "      <td>-0.007098</td>\n",
       "      <td>-0.367468</td>\n",
       "    </tr>\n",
       "    <tr>\n",
       "      <th>68</th>\n",
       "      <td>-47.549424</td>\n",
       "      <td>-164.496416</td>\n",
       "      <td>-312.959478</td>\n",
       "      <td>-147.855937</td>\n",
       "      <td>726.323695</td>\n",
       "      <td>-53.462439</td>\n",
       "      <td>0.000000</td>\n",
       "      <td>-1.483376</td>\n",
       "      <td>0.000000</td>\n",
       "      <td>-0.351998</td>\n",
       "      <td>0.619476</td>\n",
       "      <td>-0.542040</td>\n",
       "      <td>0.017810</td>\n",
       "      <td>-0.360657</td>\n",
       "      <td>0.063228</td>\n",
       "      <td>-0.100648</td>\n",
       "      <td>0.516938</td>\n",
       "      <td>-0.136671</td>\n",
       "    </tr>\n",
       "  </tbody>\n",
       "</table>\n",
       "</div>"
      ],
      "text/plain": [
       "             lr                                                               \\\n",
       "              0           1            2           3           4           5   \n",
       "381  -66.442169   -7.274305    51.949299  -83.332113  410.979196 -305.879909   \n",
       "390  -85.078449   -5.988962    45.243286   71.955727  193.596118 -219.727720   \n",
       "463   41.710498  122.301747   156.050002  117.787343 -418.297769  -19.551820   \n",
       "476   37.339245  101.168762   187.656158 -156.129543  -18.743458 -151.291164   \n",
       "69   193.233598 -293.483239   -54.342486  443.715934  179.370920 -468.494727   \n",
       "144 -158.904955 -209.891543  -292.577880  134.561974  177.826446  348.985959   \n",
       "534  -23.168949   64.579058    47.425567 -103.434028  150.745548 -136.147196   \n",
       "2     52.311916  109.926188   211.423641    3.967569    7.262764 -384.892077   \n",
       "121 -108.327328 -772.654050  1046.534762  113.449070    2.061464 -281.063918   \n",
       "68   -47.549424 -164.496416  -312.959478 -147.855937  726.323695  -53.462439   \n",
       "\n",
       "           l1                                                          l2  \\\n",
       "            0         1         2         3         4         5         0   \n",
       "381 -0.015669  0.000000  0.000000 -0.028551  0.593357 -1.134194 -0.020752   \n",
       "390 -0.000041  0.000000  0.000000 -0.178885  0.193137 -0.547342 -0.026653   \n",
       "463  0.000000  0.261877  0.315564  0.357609 -0.252024  0.413206 -0.016308   \n",
       "476 -0.040569  0.207697  0.129165  0.000000  0.000000  0.410406 -0.015385   \n",
       "69   0.000000  0.000000  0.000000  1.223624  0.000000 -2.159049  0.188957   \n",
       "144  0.000000  0.000000  0.028605  0.896523  0.000000  0.000000  0.090100   \n",
       "534  0.000000  0.065994  0.000000  0.061201  0.328577 -0.432662 -0.014103   \n",
       "2    0.000000  0.000000  0.000000  0.000000  0.000000  0.000000  0.036884   \n",
       "121  0.000000 -0.697787  4.865430  3.526399 -0.085749 -0.991030 -0.115538   \n",
       "68   0.000000 -1.483376  0.000000 -0.351998  0.619476 -0.542040  0.017810   \n",
       "\n",
       "                                                       \n",
       "            1         2         3         4         5  \n",
       "381 -0.046282 -0.035300 -0.011866  0.566373 -0.452173  \n",
       "390 -0.015256 -0.013645  0.016633  0.203954 -0.165034  \n",
       "463  0.013475 -0.010624  0.216028 -0.313267  0.110695  \n",
       "476 -0.007971  0.017722  0.025853 -0.010829 -0.009389  \n",
       "69  -0.150086 -0.066996  0.561373  0.098133 -0.631382  \n",
       "144 -0.097368 -0.162793  0.056330  0.010150  0.103581  \n",
       "534  0.062038 -0.106541 -0.029408  0.165877 -0.077863  \n",
       "2   -0.027263  0.224286  0.006178 -0.001595 -0.238490  \n",
       "121 -1.062529  1.351037  0.201596 -0.007098 -0.367468  \n",
       "68  -0.360657  0.063228 -0.100648  0.516938 -0.136671  "
      ]
     },
     "execution_count": 20,
     "metadata": {},
     "output_type": "execute_result"
    }
   ],
   "source": [
    "# Combine all the coefficients into a dataframe\n",
    "coefficients = list()\n",
    "\n",
    "coeff_labels = ['lr', 'l1', 'l2']\n",
    "coeff_models = [lr, lr_l1, lr_l2]\n",
    "\n",
    "#for lab,mod in zip(coeff_labels, coeff_models):\n",
    "#    coeffs = mod.coef_\n",
    "#    levels=[[lab], [0,1,2,3,4,5]]\n",
    "#    labels=[[0,0,0,0,0,0], [0,1,2,3,4,5]]\n",
    "#    coeff_label = pd.MultiIndex(levels,labels)\n",
    "#    coefficients.append(pd.DataFrame(coeffs.T, columns=coeff_label))\n",
    "\n",
    "for lab,mod in zip(coeff_labels, coeff_models):\n",
    "    coeffs = mod.coef_\n",
    "    coeff_label = pd.MultiIndex(levels=[[lab], [0,1,2,3,4,5]], \n",
    "                                 codes=[[0,0,0,0,0,0], [0,1,2,3,4,5]])\n",
    "    coefficients.append(pd.DataFrame(coeffs.T, columns=coeff_label))\n",
    "\n",
    "coefficients = pd.concat(coefficients, axis=1)\n",
    "\n",
    "coefficients.sample(10)\n",
    "\n"
   ]
  },
  {
   "cell_type": "markdown",
   "metadata": {},
   "source": [
    "Prepare six separate plots for each of the multi-class coefficients."
   ]
  },
  {
   "cell_type": "code",
   "execution_count": 21,
   "metadata": {},
   "outputs": [
    {
     "data": {
      "image/png": "[encoded data removed]",
      "text/plain": [
       "<Figure size 720x720 with 6 Axes>"
      ]
     },
     "metadata": {},
     "output_type": "display_data"
    }
   ],
   "source": [
    "fig, axList = plt.subplots(nrows=3, ncols=2)\n",
    "axList = axList.flatten()\n",
    "fig.set_size_inches(10,10)\n",
    "\n",
    "\n",
    "for ax in enumerate(axList):\n",
    "    loc = ax[0]\n",
    "    ax = ax[1]\n",
    "    \n",
    "    data_aux = coefficients.xs(loc, level=1, axis=1)\n",
    "    data_aux.plot(marker='o', ls='', ms=2.0, ax=ax, legend=False)\n",
    "    \n",
    "    if ax is axList[0]:\n",
    "        ax.legend(loc=4)\n",
    "        \n",
    "    ax.set(title='Coefficient Set '+str(loc))\n",
    "\n",
    "plt.tight_layout()\n",
    "\n",
    "\n"
   ]
  },
  {
   "cell_type": "markdown",
   "metadata": {},
   "source": [
    "## Question 6\n",
    "\n",
    "* Predict and store the class for each model.\n",
    "* Also store the probability for the predicted class for each model. "
   ]
  },
  {
   "cell_type": "code",
   "execution_count": 22,
   "metadata": {},
   "outputs": [
    {
     "data": {
      "text/html": [
       "<div>\n",
       "<style scoped>\n",
       "    .dataframe tbody tr th:only-of-type {\n",
       "        vertical-align: middle;\n",
       "    }\n",
       "\n",
       "    .dataframe tbody tr th {\n",
       "        vertical-align: top;\n",
       "    }\n",
       "\n",
       "    .dataframe thead th {\n",
       "        text-align: right;\n",
       "    }\n",
       "</style>\n",
       "<table border=\"1\" class=\"dataframe\">\n",
       "  <thead>\n",
       "    <tr style=\"text-align: right;\">\n",
       "      <th></th>\n",
       "      <th>lr</th>\n",
       "      <th>l1</th>\n",
       "      <th>l2</th>\n",
       "    </tr>\n",
       "  </thead>\n",
       "  <tbody>\n",
       "    <tr>\n",
       "      <th>0</th>\n",
       "      <td>3</td>\n",
       "      <td>3</td>\n",
       "      <td>3</td>\n",
       "    </tr>\n",
       "    <tr>\n",
       "      <th>1</th>\n",
       "      <td>5</td>\n",
       "      <td>5</td>\n",
       "      <td>5</td>\n",
       "    </tr>\n",
       "    <tr>\n",
       "      <th>2</th>\n",
       "      <td>3</td>\n",
       "      <td>3</td>\n",
       "      <td>3</td>\n",
       "    </tr>\n",
       "    <tr>\n",
       "      <th>3</th>\n",
       "      <td>1</td>\n",
       "      <td>1</td>\n",
       "      <td>1</td>\n",
       "    </tr>\n",
       "    <tr>\n",
       "      <th>4</th>\n",
       "      <td>0</td>\n",
       "      <td>0</td>\n",
       "      <td>0</td>\n",
       "    </tr>\n",
       "  </tbody>\n",
       "</table>\n",
       "</div>"
      ],
      "text/plain": [
       "   lr  l1  l2\n",
       "0   3   3   3\n",
       "1   5   5   5\n",
       "2   3   3   3\n",
       "3   1   1   1\n",
       "4   0   0   0"
      ]
     },
     "execution_count": 22,
     "metadata": {},
     "output_type": "execute_result"
    }
   ],
   "source": [
    "# Predict the class and the probability for each\n",
    "\n",
    "y_pred = list()\n",
    "y_prob = list()\n",
    "\n",
    "coeff_labels = ['lr', 'l1', 'l2']\n",
    "coeff_models = [lr, lr_l1, lr_l2]\n",
    "\n",
    "for lab,mod in zip(coeff_labels, coeff_models):\n",
    "    y_pred.append(pd.Series(mod.predict(X_test), name=lab))\n",
    "    y_prob.append(pd.Series(mod.predict_proba(X_test).max(axis=1), name=lab))\n",
    "    \n",
    "y_pred = pd.concat(y_pred, axis=1)\n",
    "y_prob = pd.concat(y_prob, axis=1)\n",
    "\n",
    "y_pred.head()\n",
    "\n"
   ]
  },
  {
   "cell_type": "code",
   "execution_count": 23,
   "metadata": {},
   "outputs": [
    {
     "data": {
      "text/html": [
       "<div>\n",
       "<style scoped>\n",
       "    .dataframe tbody tr th:only-of-type {\n",
       "        vertical-align: middle;\n",
       "    }\n",
       "\n",
       "    .dataframe tbody tr th {\n",
       "        vertical-align: top;\n",
       "    }\n",
       "\n",
       "    .dataframe thead th {\n",
       "        text-align: right;\n",
       "    }\n",
       "</style>\n",
       "<table border=\"1\" class=\"dataframe\">\n",
       "  <thead>\n",
       "    <tr style=\"text-align: right;\">\n",
       "      <th></th>\n",
       "      <th>lr</th>\n",
       "      <th>l1</th>\n",
       "      <th>l2</th>\n",
       "    </tr>\n",
       "  </thead>\n",
       "  <tbody>\n",
       "    <tr>\n",
       "      <th>0</th>\n",
       "      <td>1.0</td>\n",
       "      <td>0.998910</td>\n",
       "      <td>0.999998</td>\n",
       "    </tr>\n",
       "    <tr>\n",
       "      <th>1</th>\n",
       "      <td>1.0</td>\n",
       "      <td>0.999526</td>\n",
       "      <td>0.999654</td>\n",
       "    </tr>\n",
       "    <tr>\n",
       "      <th>2</th>\n",
       "      <td>1.0</td>\n",
       "      <td>0.995622</td>\n",
       "      <td>0.998873</td>\n",
       "    </tr>\n",
       "    <tr>\n",
       "      <th>3</th>\n",
       "      <td>1.0</td>\n",
       "      <td>0.999171</td>\n",
       "      <td>0.997833</td>\n",
       "    </tr>\n",
       "    <tr>\n",
       "      <th>4</th>\n",
       "      <td>1.0</td>\n",
       "      <td>0.999921</td>\n",
       "      <td>0.999300</td>\n",
       "    </tr>\n",
       "  </tbody>\n",
       "</table>\n",
       "</div>"
      ],
      "text/plain": [
       "    lr        l1        l2\n",
       "0  1.0  0.998910  0.999998\n",
       "1  1.0  0.999526  0.999654\n",
       "2  1.0  0.995622  0.998873\n",
       "3  1.0  0.999171  0.997833\n",
       "4  1.0  0.999921  0.999300"
      ]
     },
     "execution_count": 23,
     "metadata": {},
     "output_type": "execute_result"
    }
   ],
   "source": [
    "y_prob.head()"
   ]
  },
  {
   "cell_type": "markdown",
   "metadata": {},
   "source": [
    "## Question 7\n",
    "\n",
    "For each model, calculate the following error metrics: \n",
    "\n",
    "* accuracy\n",
    "* precision\n",
    "* recall\n",
    "* fscore\n",
    "* confusion matrix\n",
    "\n",
    "Decide how to combine the multi-class metrics into a single value for each model."
   ]
  },
  {
   "cell_type": "code",
   "execution_count": 24,
   "metadata": {},
   "outputs": [],
   "source": [
    "from sklearn.metrics import precision_recall_fscore_support as score\n",
    "from sklearn.metrics import confusion_matrix, accuracy_score, roc_auc_score\n",
    "from sklearn.preprocessing import label_binarize\n",
    "\n",
    "metrics = list()\n",
    "cm = dict()\n",
    "\n",
    "for lab in coeff_labels:\n",
    "\n",
    "    # Preciision, recall, f-score from the multi-class support function\n",
    "    precision, recall, fscore, _ = score(y_test, y_pred[lab], average='weighted')\n",
    "    \n",
    "    # The usual way to calculate accuracy\n",
    "    accuracy = accuracy_score(y_test, y_pred[lab])\n",
    "    \n",
    "    # ROC-AUC scores can be calculated by binarizing the data\n",
    "    auc = roc_auc_score(label_binarize(y_test, classes=[0,1,2,3,4,5]),\n",
    "              label_binarize(y_pred[lab], classes=[0,1,2,3,4,5]), \n",
    "              average='weighted')\n",
    "    \n",
    "    # Last, the confusion matrix\n",
    "    cm[lab] = confusion_matrix(y_test, y_pred[lab])\n",
    "    \n",
    "    metrics.append(pd.Series({'precision':precision, 'recall':recall, \n",
    "                              'fscore':fscore, 'accuracy':accuracy,\n",
    "                              'auc':auc}, \n",
    "                             name=lab))\n",
    "\n",
    "metrics = pd.concat(metrics, axis=1)\n"
   ]
  },
  {
   "cell_type": "code",
   "execution_count": 25,
   "metadata": {},
   "outputs": [
    {
     "data": {
      "text/html": [
       "<div>\n",
       "<style scoped>\n",
       "    .dataframe tbody tr th:only-of-type {\n",
       "        vertical-align: middle;\n",
       "    }\n",
       "\n",
       "    .dataframe tbody tr th {\n",
       "        vertical-align: top;\n",
       "    }\n",
       "\n",
       "    .dataframe thead th {\n",
       "        text-align: right;\n",
       "    }\n",
       "</style>\n",
       "<table border=\"1\" class=\"dataframe\">\n",
       "  <thead>\n",
       "    <tr style=\"text-align: right;\">\n",
       "      <th></th>\n",
       "      <th>lr</th>\n",
       "      <th>l1</th>\n",
       "      <th>l2</th>\n",
       "    </tr>\n",
       "  </thead>\n",
       "  <tbody>\n",
       "    <tr>\n",
       "      <th>precision</th>\n",
       "      <td>0.981896</td>\n",
       "      <td>0.983835</td>\n",
       "      <td>0.983485</td>\n",
       "    </tr>\n",
       "    <tr>\n",
       "      <th>recall</th>\n",
       "      <td>0.981877</td>\n",
       "      <td>0.983819</td>\n",
       "      <td>0.983495</td>\n",
       "    </tr>\n",
       "    <tr>\n",
       "      <th>fscore</th>\n",
       "      <td>0.981884</td>\n",
       "      <td>0.983815</td>\n",
       "      <td>0.983488</td>\n",
       "    </tr>\n",
       "    <tr>\n",
       "      <th>accuracy</th>\n",
       "      <td>0.981877</td>\n",
       "      <td>0.983819</td>\n",
       "      <td>0.983495</td>\n",
       "    </tr>\n",
       "    <tr>\n",
       "      <th>auc</th>\n",
       "      <td>0.989014</td>\n",
       "      <td>0.990144</td>\n",
       "      <td>0.989983</td>\n",
       "    </tr>\n",
       "  </tbody>\n",
       "</table>\n",
       "</div>"
      ],
      "text/plain": [
       "                 lr        l1        l2\n",
       "precision  0.981896  0.983835  0.983485\n",
       "recall     0.981877  0.983819  0.983495\n",
       "fscore     0.981884  0.983815  0.983488\n",
       "accuracy   0.981877  0.983819  0.983495\n",
       "auc        0.989014  0.990144  0.989983"
      ]
     },
     "execution_count": 25,
     "metadata": {},
     "output_type": "execute_result"
    }
   ],
   "source": [
    "#Run the metrics\n",
    "metrics"
   ]
  },
  {
   "cell_type": "markdown",
   "metadata": {},
   "source": [
    "## Question 8\n",
    "\n",
    "Display or plot the confusion matrix for each model."
   ]
  },
  {
   "cell_type": "code",
   "execution_count": 26,
   "metadata": {},
   "outputs": [
    {
     "data": {
      "image/png": "[encoded data removed]",
      "text/plain": [
       "<Figure size 864x720 with 7 Axes>"
      ]
     },
     "metadata": {},
     "output_type": "display_data"
    }
   ],
   "source": [
    "fig, axList = plt.subplots(nrows=2, ncols=2)\n",
    "axList = axList.flatten()\n",
    "fig.set_size_inches(12, 10)\n",
    "\n",
    "axList[-1].axis('off')\n",
    "\n",
    "for ax,lab in zip(axList[:-1], coeff_labels):\n",
    "    sns.heatmap(cm[lab], ax=ax, annot=True, fmt='d');\n",
    "    ax.set(title=lab);\n",
    "    \n",
    "plt.tight_layout()"
   ]
  },
  {
   "cell_type": "markdown",
   "metadata": {
    "collapsed": true
   },
   "source": [
    "## Question 9\n",
    " Identify highly correlated columns and drop those columns before building models"
   ]
  },
  {
   "cell_type": "code",
   "execution_count": 48,
   "metadata": {},
   "outputs": [
    {
     "name": "stdout",
     "output_type": "stream",
     "text": [
      "(7209, 561)\n",
      "(7209, 50)\n",
      "(3090, 561)\n"
     ]
    }
   ],
   "source": [
    "from sklearn.feature_selection import SelectKBest\n",
    "from sklearn.feature_selection import chi2\n",
    "from sklearn.feature_selection import VarianceThreshold\n",
    "\n",
    "\n",
    "X_data = data.iloc[:, :-1]\n",
    "\n",
    "\n",
    "#threshold with .7\n",
    "sel = VarianceThreshold(threshold=(.7 * (1 - .7)))\n",
    "X_data = pd.DataFrame(sel.fit_transform(X_data))\n",
    "\n",
    "\n",
    "feature_cols = X_data.columns[:]\n",
    "\n",
    "\n",
    "# Dividindo os subjconjuntos de treino e teste, seguindo os mesmos\n",
    "# Indices obtidos com Stratified Shuffle Split, agora com os dados\n",
    "# Com menos features\n",
    " \n",
    "\n",
    "X_train_new = X_data.loc[train_idx, :]\n",
    "\n",
    "y_train_new = data.loc[train_idx, 'Activity']\n",
    " \n",
    "X_test_new  = X_data.loc[test_idx, :]\n",
    "y_test_new  = data.loc[test_idx, 'Activity']\n",
    " \n",
    "print(X_train.shape)\n",
    "print(X_train_new.shape)\n",
    " \n",
    "print(X_test.shape)"
   ]
  },
  {
   "cell_type": "code",
   "execution_count": 42,
   "metadata": {},
   "outputs": [
    {
     "data": {
      "text/plain": [
       "0    0.188792\n",
       "2    0.185046\n",
       "1    0.172562\n",
       "3    0.167152\n",
       "5    0.149951\n",
       "4    0.136496\n",
       "Name: Activity, dtype: float64"
      ]
     },
     "execution_count": 42,
     "metadata": {},
     "output_type": "execute_result"
    }
   ],
   "source": [
    "y_train_new.value_counts(normalize=True)"
   ]
  },
  {
   "cell_type": "code",
   "execution_count": 43,
   "metadata": {},
   "outputs": [
    {
     "data": {
      "text/plain": [
       "0    0.188673\n",
       "2    0.185113\n",
       "1    0.172492\n",
       "3    0.167314\n",
       "5    0.149838\n",
       "4    0.136570\n",
       "Name: Activity, dtype: float64"
      ]
     },
     "execution_count": 43,
     "metadata": {},
     "output_type": "execute_result"
    }
   ],
   "source": [
    "y_test_new.value_counts(normalize=True)"
   ]
  },
  {
   "cell_type": "markdown",
   "metadata": {},
   "source": [
    " Repeat Model building with new training data after removing higly correlated columns"
   ]
  },
  {
   "cell_type": "code",
   "execution_count": 28,
   "metadata": {},
   "outputs": [],
   "source": [
    "# Try standard, L1 and L2 Logistic regression"
   ]
  },
  {
   "cell_type": "code",
   "execution_count": 44,
   "metadata": {},
   "outputs": [
    {
     "data": {
      "text/plain": [
       "array([[-1.53870774e+00, -1.79890340e+00, -1.41820743e+01,\n",
       "         5.54286091e+00, -9.17899055e+00, -2.59971954e+01,\n",
       "        -1.48249916e+01, -3.26873058e+01, -3.09350751e+01,\n",
       "         2.61390497e+00,  3.85738143e+00,  1.60841119e+00,\n",
       "         4.49415286e-01, -5.58427050e+00, -3.34780525e+00,\n",
       "         2.66421646e-01, -2.02612677e+00, -1.64324790e-01,\n",
       "         3.72603501e+00,  5.46660164e+00,  3.72603501e+00,\n",
       "         4.80190589e+00,  3.72603501e+00,  5.46660164e+00,\n",
       "         3.72603501e+00,  4.80190589e+00, -1.79029514e+00,\n",
       "         1.18044294e+00, -4.21878674e-01, -5.51923924e+00,\n",
       "        -7.14130983e-01, -4.61333088e+00, -1.98593416e+00,\n",
       "        -1.66807326e+00, -4.57832274e+00,  1.63714252e+00,\n",
       "        -1.42730956e+01, -5.68899289e+00, -3.34287957e+00,\n",
       "        -2.37683033e+00,  3.72299156e+00, -6.08115021e+00,\n",
       "        -6.83630072e-01, -2.40287112e+00, -5.03210192e+00,\n",
       "        -6.26247340e+00, -1.03671118e+00, -1.59605813e+00,\n",
       "        -2.80401922e+00,  2.38654386e+01],\n",
       "       [ 8.67091427e+01, -1.07585279e+00, -2.11758074e+01,\n",
       "        -9.46435970e+00, -1.02252955e+01,  6.29800268e+01,\n",
       "         2.30331316e+01, -4.32605468e+00, -4.46937457e+01,\n",
       "        -6.65867897e+00, -8.57579453e-01, -1.59557060e+00,\n",
       "        -5.79882706e+00, -8.14951575e+00,  2.30773913e+00,\n",
       "        -1.35613188e+01,  3.33751971e+00, -2.28037738e+00,\n",
       "         1.22900692e-01,  2.54246802e+00,  1.22900692e-01,\n",
       "         2.95348625e-01,  1.22900692e-01,  2.54246802e+00,\n",
       "         1.22900692e-01,  2.95348625e-01, -4.19085455e+00,\n",
       "         3.92431058e+00, -4.50282336e+00, -2.93573907e+01,\n",
       "        -6.43832377e+01,  2.59706712e+00, -1.03450300e+01,\n",
       "        -5.73259200e+00, -3.21665153e+00, -1.23771187e+00,\n",
       "        -1.13672193e+01, -7.51332606e+00, -7.29989366e+00,\n",
       "        -1.76424037e+00, -9.49914880e+00,  6.77806863e+00,\n",
       "         2.18572835e+00, -9.08853849e-01, -4.89946417e+00,\n",
       "         1.22231390e+00,  2.40777260e+00, -1.19789084e+00,\n",
       "        -2.33476823e+00, -2.40166458e+01],\n",
       "       [-8.98038624e+01,  7.30433853e-01, -5.16090895e+00,\n",
       "         1.10276566e+01, -8.84281988e+00, -4.90141836e+01,\n",
       "        -7.78159263e+00,  1.06110180e+01,  4.89346055e+01,\n",
       "        -5.94354077e+00, -3.60045259e-01, -1.11787101e+00,\n",
       "        -1.23821600e+01, -9.11876983e+00, -2.02892438e+00,\n",
       "        -2.62134922e+00, -6.62001175e-01, -4.22772604e+00,\n",
       "        -5.07726318e-01, -4.87304540e+00, -5.07726318e-01,\n",
       "         9.61561224e-01, -5.07726318e-01, -4.87304540e+00,\n",
       "        -5.07726318e-01,  9.61561224e-01, -7.09415568e+00,\n",
       "         1.84807140e+00,  1.12536745e+00,  2.58349669e+01,\n",
       "         6.21381182e+01, -5.98231639e+00,  2.53742684e+00,\n",
       "        -5.95948372e+00, -2.57073072e+00, -3.63440318e+00,\n",
       "         1.09041890e+01, -7.56109123e+00, -9.11740008e+00,\n",
       "        -3.18585321e+00, -2.02551558e+00,  2.06148155e+00,\n",
       "        -8.79842853e-01, -9.58218295e-01, -1.84476082e+00,\n",
       "         2.09557384e+00,  1.06405101e+00, -1.41789446e+00,\n",
       "        -1.66340734e+00,  1.66527082e+01],\n",
       "       [-1.27281819e+02,  5.98389585e+00,  8.84743492e+00,\n",
       "        -4.49450100e+01,  1.40720706e+01, -1.72543549e+02,\n",
       "        -8.41196281e+01,  9.36060355e+01,  8.86161007e+01,\n",
       "         3.52771202e+00, -5.38418585e-01, -3.06730612e-01,\n",
       "         1.59077720e+01,  1.27489460e+01,  1.05193913e+01,\n",
       "         1.01320059e+01, -3.38640747e-01,  5.57205158e+00,\n",
       "         5.24036794e+00, -3.35390542e+00,  5.24036794e+00,\n",
       "        -1.12452225e+01,  5.24036794e+00, -3.35390542e+00,\n",
       "         5.24036794e+00, -1.12452225e+01,  1.79811775e+01,\n",
       "        -2.69705745e+00,  3.96577658e+00,  5.27854389e+01,\n",
       "         9.13723242e+01, -6.29091630e-02,  4.46713620e-01,\n",
       "         1.39212675e+00,  2.25090047e+00, -5.79352647e-01,\n",
       "         1.28516291e+01,  2.22964818e+00,  8.04730302e+00,\n",
       "         9.13469189e+00,  8.19991879e-01,  3.92706546e+00,\n",
       "        -6.00580409e+00, -7.00488166e+00,  2.14437234e+00,\n",
       "         8.36037331e+00, -1.96738203e+00,  1.02342552e+00,\n",
       "         2.75011667e+00, -1.12880536e+00],\n",
       "       [ 9.26080958e+01, -4.50154336e+00,  1.88569862e+01,\n",
       "         2.12747317e+01,  2.81689702e+00,  1.91590571e+01,\n",
       "         4.90869027e+01, -3.41881403e+01, -7.54568747e+00,\n",
       "         3.25304732e+00, -1.35087439e+00,  1.18958278e+00,\n",
       "        -8.95048561e+00,  7.39966859e-01, -8.04221569e+00,\n",
       "         2.78749832e+00,  8.67168418e-01, -3.06441966e+00,\n",
       "        -4.58608800e+00,  1.09108056e+00, -4.58608800e+00,\n",
       "         6.75939014e+00, -4.58608800e+00,  1.09108056e+00,\n",
       "        -4.58608800e+00,  6.75939014e+00,  9.40288115e+00,\n",
       "         3.80641718e-01, -1.04238163e+00, -2.95491577e+01,\n",
       "        -6.89432182e+01,  9.04308917e+00,  1.04086360e+00,\n",
       "         5.59055334e+00,  6.75622337e+00,  1.14383620e+00,\n",
       "         1.78465826e+00,  5.81328208e+00,  1.02696119e+01,\n",
       "         6.26563146e+00, -1.22135989e+00, -6.50484126e+00,\n",
       "         2.50730111e+00,  1.19555561e+01,  7.63828019e-02,\n",
       "        -2.35996858e+00,  4.37614797e+00,  1.69836294e+00,\n",
       "         1.69792593e+00, -1.99458044e+01],\n",
       "       [ 3.93071510e+01,  6.61969844e-01,  1.28143695e+01,\n",
       "         1.65641205e+01,  1.13581384e+01,  1.65415844e+02,\n",
       "         3.46061779e+01, -3.30155527e+01, -5.43761980e+01,\n",
       "         3.20755543e+00, -7.50463745e-01,  2.22178258e-01,\n",
       "         1.07742853e+01,  9.36364326e+00,  5.91814906e-01,\n",
       "         2.99674217e+00, -1.17791943e+00,  4.16479630e+00,\n",
       "        -3.99548931e+00, -8.73199382e-01, -3.99548931e+00,\n",
       "        -1.57298336e+00, -3.99548931e+00, -8.73199382e-01,\n",
       "        -3.99548931e+00, -1.57298336e+00, -1.43087532e+01,\n",
       "        -4.63640918e+00,  8.75939633e-01, -1.41946182e+01,\n",
       "        -1.94698554e+01, -9.81599846e-01,  8.30596006e+00,\n",
       "         6.37746889e+00,  1.35858116e+00,  2.67048899e+00,\n",
       "         9.98385694e-02,  1.27204799e+01,  1.44325840e+00,\n",
       "        -8.07339944e+00,  8.20304083e+00, -1.80624176e-01,\n",
       "         2.87624755e+00, -6.80731171e-01,  9.55557176e+00,\n",
       "        -3.05581907e+00, -4.84387836e+00,  1.49005497e+00,\n",
       "         2.35415219e+00,  4.57310868e+00]])"
      ]
     },
     "execution_count": 44,
     "metadata": {},
     "output_type": "execute_result"
    }
   ],
   "source": [
    "# Standard logistic regression\n",
    "lr = LogisticRegression(max_iter=100000, penalty='none').fit(X_train_new, y_train_new)\n",
    "lr.coef_"
   ]
  },
  {
   "cell_type": "code",
   "execution_count": 46,
   "metadata": {},
   "outputs": [],
   "source": [
    "# L1 regularized logistic regression\n",
    "lr_l1 = LogisticRegressionCV(Cs=10, cv=4, penalty='l1', solver='liblinear', max_iter=10000).fit(X_train_new, y_train_new)"
   ]
  },
  {
   "cell_type": "code",
   "execution_count": 29,
   "metadata": {},
   "outputs": [],
   "source": [
    "#Try with different solvers like ‘newton-cg’, ‘lbfgs’, ‘sag’, ‘saga’ and give your observations"
   ]
  },
  {
   "cell_type": "code",
   "execution_count": 47,
   "metadata": {},
   "outputs": [],
   "source": [
    "# L2 regularized logistic regression\n",
    "lr_l2 = LogisticRegressionCV(Cs=10, cv=4, penalty='l2', max_iter=10000).fit(X_train_new, y_train_new)"
   ]
  },
  {
   "cell_type": "markdown",
   "metadata": {},
   "source": [
    "## Question 10\n",
    "\n",
    "Compare the magnitudes of the coefficients for each of the models. If one-vs-rest fitting was used, each set of coefficients can be plotted separately. "
   ]
  },
  {
   "cell_type": "code",
   "execution_count": 49,
   "metadata": {},
   "outputs": [
    {
     "data": {
      "text/html": [
       "<div>\n",
       "<style scoped>\n",
       "    .dataframe tbody tr th:only-of-type {\n",
       "        vertical-align: middle;\n",
       "    }\n",
       "\n",
       "    .dataframe tbody tr th {\n",
       "        vertical-align: top;\n",
       "    }\n",
       "\n",
       "    .dataframe thead tr th {\n",
       "        text-align: left;\n",
       "    }\n",
       "</style>\n",
       "<table border=\"1\" class=\"dataframe\">\n",
       "  <thead>\n",
       "    <tr>\n",
       "      <th></th>\n",
       "      <th colspan=\"6\" halign=\"left\">lr</th>\n",
       "      <th colspan=\"6\" halign=\"left\">l1</th>\n",
       "      <th colspan=\"6\" halign=\"left\">l2</th>\n",
       "    </tr>\n",
       "    <tr>\n",
       "      <th></th>\n",
       "      <th>0</th>\n",
       "      <th>1</th>\n",
       "      <th>2</th>\n",
       "      <th>3</th>\n",
       "      <th>4</th>\n",
       "      <th>5</th>\n",
       "      <th>0</th>\n",
       "      <th>1</th>\n",
       "      <th>2</th>\n",
       "      <th>3</th>\n",
       "      <th>4</th>\n",
       "      <th>5</th>\n",
       "      <th>0</th>\n",
       "      <th>1</th>\n",
       "      <th>2</th>\n",
       "      <th>3</th>\n",
       "      <th>4</th>\n",
       "      <th>5</th>\n",
       "    </tr>\n",
       "  </thead>\n",
       "  <tbody>\n",
       "    <tr>\n",
       "      <th>31</th>\n",
       "      <td>-4.613331</td>\n",
       "      <td>2.597067</td>\n",
       "      <td>-5.982316</td>\n",
       "      <td>-0.062909</td>\n",
       "      <td>9.043089</td>\n",
       "      <td>-0.981600</td>\n",
       "      <td>0.00000</td>\n",
       "      <td>0.000000</td>\n",
       "      <td>-3.890533</td>\n",
       "      <td>0.163961</td>\n",
       "      <td>9.615126</td>\n",
       "      <td>-2.943009</td>\n",
       "      <td>-0.271687</td>\n",
       "      <td>-1.355029</td>\n",
       "      <td>-1.466848</td>\n",
       "      <td>-0.396576</td>\n",
       "      <td>6.181870</td>\n",
       "      <td>-2.691731</td>\n",
       "    </tr>\n",
       "    <tr>\n",
       "      <th>5</th>\n",
       "      <td>-25.997195</td>\n",
       "      <td>62.980027</td>\n",
       "      <td>-49.014184</td>\n",
       "      <td>-172.543549</td>\n",
       "      <td>19.159057</td>\n",
       "      <td>165.415844</td>\n",
       "      <td>-2.66323</td>\n",
       "      <td>46.450621</td>\n",
       "      <td>10.326087</td>\n",
       "      <td>-0.462713</td>\n",
       "      <td>-7.398072</td>\n",
       "      <td>16.353420</td>\n",
       "      <td>-11.785093</td>\n",
       "      <td>35.213015</td>\n",
       "      <td>-27.661618</td>\n",
       "      <td>-23.367051</td>\n",
       "      <td>-2.882726</td>\n",
       "      <td>30.483473</td>\n",
       "    </tr>\n",
       "    <tr>\n",
       "      <th>42</th>\n",
       "      <td>-0.683630</td>\n",
       "      <td>2.185728</td>\n",
       "      <td>-0.879843</td>\n",
       "      <td>-6.005804</td>\n",
       "      <td>2.507301</td>\n",
       "      <td>2.876248</td>\n",
       "      <td>0.00000</td>\n",
       "      <td>2.338534</td>\n",
       "      <td>-2.700371</td>\n",
       "      <td>-6.791830</td>\n",
       "      <td>2.109441</td>\n",
       "      <td>2.561834</td>\n",
       "      <td>-0.042369</td>\n",
       "      <td>2.309539</td>\n",
       "      <td>-0.672476</td>\n",
       "      <td>-5.799776</td>\n",
       "      <td>2.009278</td>\n",
       "      <td>2.195805</td>\n",
       "    </tr>\n",
       "    <tr>\n",
       "      <th>1</th>\n",
       "      <td>-1.798903</td>\n",
       "      <td>-1.075853</td>\n",
       "      <td>0.730434</td>\n",
       "      <td>5.983896</td>\n",
       "      <td>-4.501543</td>\n",
       "      <td>0.661970</td>\n",
       "      <td>0.00000</td>\n",
       "      <td>4.822283</td>\n",
       "      <td>0.000000</td>\n",
       "      <td>11.064862</td>\n",
       "      <td>-4.269852</td>\n",
       "      <td>-1.061659</td>\n",
       "      <td>0.251840</td>\n",
       "      <td>-1.165910</td>\n",
       "      <td>1.065495</td>\n",
       "      <td>4.750204</td>\n",
       "      <td>-4.772082</td>\n",
       "      <td>-0.129547</td>\n",
       "    </tr>\n",
       "    <tr>\n",
       "      <th>3</th>\n",
       "      <td>5.542861</td>\n",
       "      <td>-9.464360</td>\n",
       "      <td>11.027657</td>\n",
       "      <td>-44.945010</td>\n",
       "      <td>21.274732</td>\n",
       "      <td>16.564120</td>\n",
       "      <td>0.00000</td>\n",
       "      <td>-4.249362</td>\n",
       "      <td>0.000000</td>\n",
       "      <td>-57.263333</td>\n",
       "      <td>13.009228</td>\n",
       "      <td>8.906416</td>\n",
       "      <td>1.801393</td>\n",
       "      <td>-4.599284</td>\n",
       "      <td>6.655539</td>\n",
       "      <td>-35.341165</td>\n",
       "      <td>17.557996</td>\n",
       "      <td>13.925522</td>\n",
       "    </tr>\n",
       "    <tr>\n",
       "      <th>29</th>\n",
       "      <td>-5.519239</td>\n",
       "      <td>-29.357391</td>\n",
       "      <td>25.834967</td>\n",
       "      <td>52.785439</td>\n",
       "      <td>-29.549158</td>\n",
       "      <td>-14.194618</td>\n",
       "      <td>0.00000</td>\n",
       "      <td>0.000000</td>\n",
       "      <td>-2.785542</td>\n",
       "      <td>30.512260</td>\n",
       "      <td>6.028164</td>\n",
       "      <td>-4.778560</td>\n",
       "      <td>-0.441841</td>\n",
       "      <td>-6.293564</td>\n",
       "      <td>3.341353</td>\n",
       "      <td>11.632410</td>\n",
       "      <td>-2.962298</td>\n",
       "      <td>-5.276060</td>\n",
       "    </tr>\n",
       "    <tr>\n",
       "      <th>24</th>\n",
       "      <td>3.726035</td>\n",
       "      <td>0.122901</td>\n",
       "      <td>-0.507726</td>\n",
       "      <td>5.240368</td>\n",
       "      <td>-4.586088</td>\n",
       "      <td>-3.995489</td>\n",
       "      <td>0.00000</td>\n",
       "      <td>-0.288591</td>\n",
       "      <td>0.816092</td>\n",
       "      <td>8.294947</td>\n",
       "      <td>-1.465875</td>\n",
       "      <td>-0.264640</td>\n",
       "      <td>1.428509</td>\n",
       "      <td>-0.347452</td>\n",
       "      <td>0.824513</td>\n",
       "      <td>4.018414</td>\n",
       "      <td>-3.182242</td>\n",
       "      <td>-2.741742</td>\n",
       "    </tr>\n",
       "    <tr>\n",
       "      <th>45</th>\n",
       "      <td>-6.262473</td>\n",
       "      <td>1.222314</td>\n",
       "      <td>2.095574</td>\n",
       "      <td>8.360373</td>\n",
       "      <td>-2.359969</td>\n",
       "      <td>-3.055819</td>\n",
       "      <td>0.00000</td>\n",
       "      <td>-0.217213</td>\n",
       "      <td>0.159473</td>\n",
       "      <td>5.517992</td>\n",
       "      <td>-1.549274</td>\n",
       "      <td>-2.252040</td>\n",
       "      <td>-1.508814</td>\n",
       "      <td>-0.624747</td>\n",
       "      <td>0.171151</td>\n",
       "      <td>6.953973</td>\n",
       "      <td>-2.134987</td>\n",
       "      <td>-2.856576</td>\n",
       "    </tr>\n",
       "    <tr>\n",
       "      <th>18</th>\n",
       "      <td>3.726035</td>\n",
       "      <td>0.122901</td>\n",
       "      <td>-0.507726</td>\n",
       "      <td>5.240368</td>\n",
       "      <td>-4.586088</td>\n",
       "      <td>-3.995489</td>\n",
       "      <td>0.00000</td>\n",
       "      <td>-0.957833</td>\n",
       "      <td>0.708591</td>\n",
       "      <td>8.047757</td>\n",
       "      <td>-1.191146</td>\n",
       "      <td>-0.541122</td>\n",
       "      <td>1.428509</td>\n",
       "      <td>-0.347452</td>\n",
       "      <td>0.824513</td>\n",
       "      <td>4.018414</td>\n",
       "      <td>-3.182242</td>\n",
       "      <td>-2.741742</td>\n",
       "    </tr>\n",
       "    <tr>\n",
       "      <th>39</th>\n",
       "      <td>-2.376830</td>\n",
       "      <td>-1.764240</td>\n",
       "      <td>-3.185853</td>\n",
       "      <td>9.134692</td>\n",
       "      <td>6.265631</td>\n",
       "      <td>-8.073399</td>\n",
       "      <td>0.00000</td>\n",
       "      <td>0.029206</td>\n",
       "      <td>-1.832655</td>\n",
       "      <td>10.846605</td>\n",
       "      <td>10.761488</td>\n",
       "      <td>-10.218070</td>\n",
       "      <td>-0.836945</td>\n",
       "      <td>-1.040298</td>\n",
       "      <td>-2.357955</td>\n",
       "      <td>7.061326</td>\n",
       "      <td>5.564870</td>\n",
       "      <td>-8.390998</td>\n",
       "    </tr>\n",
       "  </tbody>\n",
       "</table>\n",
       "</div>"
      ],
      "text/plain": [
       "           lr                                                           \\\n",
       "            0          1          2           3          4           5   \n",
       "31  -4.613331   2.597067  -5.982316   -0.062909   9.043089   -0.981600   \n",
       "5  -25.997195  62.980027 -49.014184 -172.543549  19.159057  165.415844   \n",
       "42  -0.683630   2.185728  -0.879843   -6.005804   2.507301    2.876248   \n",
       "1   -1.798903  -1.075853   0.730434    5.983896  -4.501543    0.661970   \n",
       "3    5.542861  -9.464360  11.027657  -44.945010  21.274732   16.564120   \n",
       "29  -5.519239 -29.357391  25.834967   52.785439 -29.549158  -14.194618   \n",
       "24   3.726035   0.122901  -0.507726    5.240368  -4.586088   -3.995489   \n",
       "45  -6.262473   1.222314   2.095574    8.360373  -2.359969   -3.055819   \n",
       "18   3.726035   0.122901  -0.507726    5.240368  -4.586088   -3.995489   \n",
       "39  -2.376830  -1.764240  -3.185853    9.134692   6.265631   -8.073399   \n",
       "\n",
       "         l1                                                                l2  \\\n",
       "          0          1          2          3          4          5          0   \n",
       "31  0.00000   0.000000  -3.890533   0.163961   9.615126  -2.943009  -0.271687   \n",
       "5  -2.66323  46.450621  10.326087  -0.462713  -7.398072  16.353420 -11.785093   \n",
       "42  0.00000   2.338534  -2.700371  -6.791830   2.109441   2.561834  -0.042369   \n",
       "1   0.00000   4.822283   0.000000  11.064862  -4.269852  -1.061659   0.251840   \n",
       "3   0.00000  -4.249362   0.000000 -57.263333  13.009228   8.906416   1.801393   \n",
       "29  0.00000   0.000000  -2.785542  30.512260   6.028164  -4.778560  -0.441841   \n",
       "24  0.00000  -0.288591   0.816092   8.294947  -1.465875  -0.264640   1.428509   \n",
       "45  0.00000  -0.217213   0.159473   5.517992  -1.549274  -2.252040  -1.508814   \n",
       "18  0.00000  -0.957833   0.708591   8.047757  -1.191146  -0.541122   1.428509   \n",
       "39  0.00000   0.029206  -1.832655  10.846605  10.761488 -10.218070  -0.836945   \n",
       "\n",
       "                                                           \n",
       "            1          2          3          4          5  \n",
       "31  -1.355029  -1.466848  -0.396576   6.181870  -2.691731  \n",
       "5   35.213015 -27.661618 -23.367051  -2.882726  30.483473  \n",
       "42   2.309539  -0.672476  -5.799776   2.009278   2.195805  \n",
       "1   -1.165910   1.065495   4.750204  -4.772082  -0.129547  \n",
       "3   -4.599284   6.655539 -35.341165  17.557996  13.925522  \n",
       "29  -6.293564   3.341353  11.632410  -2.962298  -5.276060  \n",
       "24  -0.347452   0.824513   4.018414  -3.182242  -2.741742  \n",
       "45  -0.624747   0.171151   6.953973  -2.134987  -2.856576  \n",
       "18  -0.347452   0.824513   4.018414  -3.182242  -2.741742  \n",
       "39  -1.040298  -2.357955   7.061326   5.564870  -8.390998  "
      ]
     },
     "execution_count": 49,
     "metadata": {},
     "output_type": "execute_result"
    }
   ],
   "source": [
    "# Combine all the coefficients into a dataframe for comparison\n",
    "coefficients = list()\n",
    "\n",
    "coeff_labels = ['lr', 'l1', 'l2']\n",
    "coeff_models = [lr, lr_l1, lr_l2]\n",
    "\n",
    "for lab,mod in zip(coeff_labels, coeff_models):\n",
    "    coeffs = mod.coef_\n",
    "    coeff_label = pd.MultiIndex(levels=[[lab], [0,1,2,3,4,5]], \n",
    "                                 codes=[[0,0,0,0,0,0], [0,1,2,3,4,5]])\n",
    "    coefficients.append(pd.DataFrame(coeffs.T, columns=coeff_label))\n",
    "\n",
    "coefficients = pd.concat(coefficients, axis=1)\n",
    "\n",
    "coefficients.sample(10)"
   ]
  },
  {
   "cell_type": "markdown",
   "metadata": {},
   "source": [
    "Prepare six separate plots for each of the multi-class coefficients."
   ]
  },
  {
   "cell_type": "code",
   "execution_count": 59,
   "metadata": {},
   "outputs": [
    {
     "data": {
      "image/png": "[encoded data removed]",
      "text/plain": [
       "<Figure size 720x720 with 6 Axes>"
      ]
     },
     "metadata": {},
     "output_type": "display_data"
    }
   ],
   "source": [
    "# try the plots\n",
    "fig, axList = plt.subplots(nrows=3, ncols=2)\n",
    "axList = axList.flatten()\n",
    "fig.set_size_inches(10,10)\n",
    "\n",
    "\n",
    "for ax in enumerate(axList):\n",
    "    loc = ax[0]\n",
    "    ax = ax[1]\n",
    "    \n",
    "    data_aux = coefficients.xs(loc, level=1, axis=1)\n",
    "    data_aux.plot(marker='o', ls='', ms=3.0, ax=ax, legend=False)\n",
    "    \n",
    "    if ax is axList[0]:\n",
    "        ax.legend(loc=4)\n",
    "        \n",
    "    ax.set(title='Coefficient Set '+ str(loc))\n",
    "\n",
    "plt.tight_layout()"
   ]
  },
  {
   "cell_type": "markdown",
   "metadata": {},
   "source": [
    "## Question 11\n",
    "\n",
    "* Predict and store the class for each model.\n",
    "* Also store the probability for the predicted class for each model. "
   ]
  },
  {
   "cell_type": "code",
   "execution_count": 51,
   "metadata": {},
   "outputs": [
    {
     "data": {
      "text/html": [
       "<div>\n",
       "<style scoped>\n",
       "    .dataframe tbody tr th:only-of-type {\n",
       "        vertical-align: middle;\n",
       "    }\n",
       "\n",
       "    .dataframe tbody tr th {\n",
       "        vertical-align: top;\n",
       "    }\n",
       "\n",
       "    .dataframe thead th {\n",
       "        text-align: right;\n",
       "    }\n",
       "</style>\n",
       "<table border=\"1\" class=\"dataframe\">\n",
       "  <thead>\n",
       "    <tr style=\"text-align: right;\">\n",
       "      <th></th>\n",
       "      <th>lr</th>\n",
       "      <th>l1</th>\n",
       "      <th>l2</th>\n",
       "    </tr>\n",
       "  </thead>\n",
       "  <tbody>\n",
       "    <tr>\n",
       "      <th>0</th>\n",
       "      <td>3</td>\n",
       "      <td>3</td>\n",
       "      <td>3</td>\n",
       "    </tr>\n",
       "    <tr>\n",
       "      <th>1</th>\n",
       "      <td>5</td>\n",
       "      <td>5</td>\n",
       "      <td>5</td>\n",
       "    </tr>\n",
       "    <tr>\n",
       "      <th>2</th>\n",
       "      <td>3</td>\n",
       "      <td>3</td>\n",
       "      <td>3</td>\n",
       "    </tr>\n",
       "    <tr>\n",
       "      <th>3</th>\n",
       "      <td>1</td>\n",
       "      <td>1</td>\n",
       "      <td>1</td>\n",
       "    </tr>\n",
       "    <tr>\n",
       "      <th>4</th>\n",
       "      <td>0</td>\n",
       "      <td>0</td>\n",
       "      <td>0</td>\n",
       "    </tr>\n",
       "  </tbody>\n",
       "</table>\n",
       "</div>"
      ],
      "text/plain": [
       "   lr  l1  l2\n",
       "0   3   3   3\n",
       "1   5   5   5\n",
       "2   3   3   3\n",
       "3   1   1   1\n",
       "4   0   0   0"
      ]
     },
     "execution_count": 51,
     "metadata": {},
     "output_type": "execute_result"
    }
   ],
   "source": [
    "# Predict the class and the probability for each\n",
    "\n",
    "y_pred_new = list()\n",
    "y_prob_new = list()\n",
    "\n",
    "coeff_labels = ['lr', 'l1', 'l2']\n",
    "coeff_models = [lr, lr_l1, lr_l2]\n",
    "\n",
    "for lab,mod in zip(coeff_labels, coeff_models):\n",
    "    y_pred_new.append(pd.Series(mod.predict(X_test_new), name=lab))\n",
    "    y_prob_new.append(pd.Series(mod.predict_proba(X_test_new).max(axis=1), name=lab))\n",
    "    \n",
    "y_pred_new = pd.concat(y_pred_new, axis=1)\n",
    "y_prob_new = pd.concat(y_prob_new, axis=1)\n",
    "\n",
    "y_pred_new.head()"
   ]
  },
  {
   "cell_type": "code",
   "execution_count": 52,
   "metadata": {},
   "outputs": [
    {
     "data": {
      "text/html": [
       "<div>\n",
       "<style scoped>\n",
       "    .dataframe tbody tr th:only-of-type {\n",
       "        vertical-align: middle;\n",
       "    }\n",
       "\n",
       "    .dataframe tbody tr th {\n",
       "        vertical-align: top;\n",
       "    }\n",
       "\n",
       "    .dataframe thead th {\n",
       "        text-align: right;\n",
       "    }\n",
       "</style>\n",
       "<table border=\"1\" class=\"dataframe\">\n",
       "  <thead>\n",
       "    <tr style=\"text-align: right;\">\n",
       "      <th></th>\n",
       "      <th>lr</th>\n",
       "      <th>l1</th>\n",
       "      <th>l2</th>\n",
       "    </tr>\n",
       "  </thead>\n",
       "  <tbody>\n",
       "    <tr>\n",
       "      <th>0</th>\n",
       "      <td>0.999999</td>\n",
       "      <td>0.997239</td>\n",
       "      <td>0.999993</td>\n",
       "    </tr>\n",
       "    <tr>\n",
       "      <th>1</th>\n",
       "      <td>0.999857</td>\n",
       "      <td>0.998126</td>\n",
       "      <td>0.999866</td>\n",
       "    </tr>\n",
       "    <tr>\n",
       "      <th>2</th>\n",
       "      <td>0.999998</td>\n",
       "      <td>0.984704</td>\n",
       "      <td>0.999982</td>\n",
       "    </tr>\n",
       "    <tr>\n",
       "      <th>3</th>\n",
       "      <td>0.878535</td>\n",
       "      <td>0.863664</td>\n",
       "      <td>0.877469</td>\n",
       "    </tr>\n",
       "    <tr>\n",
       "      <th>4</th>\n",
       "      <td>1.000000</td>\n",
       "      <td>0.999995</td>\n",
       "      <td>0.999999</td>\n",
       "    </tr>\n",
       "  </tbody>\n",
       "</table>\n",
       "</div>"
      ],
      "text/plain": [
       "         lr        l1        l2\n",
       "0  0.999999  0.997239  0.999993\n",
       "1  0.999857  0.998126  0.999866\n",
       "2  0.999998  0.984704  0.999982\n",
       "3  0.878535  0.863664  0.877469\n",
       "4  1.000000  0.999995  0.999999"
      ]
     },
     "execution_count": 52,
     "metadata": {},
     "output_type": "execute_result"
    }
   ],
   "source": [
    "y_prob_new.head()"
   ]
  },
  {
   "cell_type": "markdown",
   "metadata": {},
   "source": [
    "## Question 12\n",
    "\n",
    "For each model, calculate the following error metrics: \n",
    "\n",
    "* accuracy\n",
    "* precision\n",
    "* recall\n",
    "* fscore\n",
    "* confusion matrix\n",
    "\n",
    "Decide how to combine the multi-class metrics into a single value for each model."
   ]
  },
  {
   "cell_type": "code",
   "execution_count": 53,
   "metadata": {},
   "outputs": [],
   "source": [
    "# Calculate the error metrics as listed above\n",
    "\n",
    "metrics_new = list()\n",
    "cm = dict()\n",
    "\n",
    "for lab in coeff_labels:\n",
    "\n",
    "    # Preciision, recall, f-score from the multi-class support function\n",
    "    precision, recall, fscore, _ = score(y_test_new, y_pred_new[lab], average='weighted')\n",
    "    \n",
    "    # The usual way to calculate accuracy\n",
    "    accuracy = accuracy_score(y_test_new, y_pred_new[lab])\n",
    "    \n",
    "    # ROC-AUC scores can be calculated by binarizing the data\n",
    "    auc = roc_auc_score(label_binarize(y_test, classes=[0,1,2,3,4,5]),\n",
    "              label_binarize(y_pred_new[lab], classes=[0,1,2,3,4,5]), \n",
    "              average='weighted')\n",
    "    \n",
    "    # Last, the confusion matrix\n",
    "    cm[lab] = confusion_matrix(y_test_new, y_pred_new[lab])\n",
    "    \n",
    "    metrics_new.append(pd.Series({'precision':precision, 'recall':recall, \n",
    "                              'fscore':fscore, 'accuracy':accuracy,\n",
    "                              'auc':auc}, \n",
    "                             name=lab))\n",
    "\n",
    "metrics_new = pd.concat(metrics_new, axis=1)"
   ]
  },
  {
   "cell_type": "code",
   "execution_count": 54,
   "metadata": {},
   "outputs": [
    {
     "data": {
      "text/html": [
       "<div>\n",
       "<style scoped>\n",
       "    .dataframe tbody tr th:only-of-type {\n",
       "        vertical-align: middle;\n",
       "    }\n",
       "\n",
       "    .dataframe tbody tr th {\n",
       "        vertical-align: top;\n",
       "    }\n",
       "\n",
       "    .dataframe thead th {\n",
       "        text-align: right;\n",
       "    }\n",
       "</style>\n",
       "<table border=\"1\" class=\"dataframe\">\n",
       "  <thead>\n",
       "    <tr style=\"text-align: right;\">\n",
       "      <th></th>\n",
       "      <th>lr</th>\n",
       "      <th>l1</th>\n",
       "      <th>l2</th>\n",
       "    </tr>\n",
       "  </thead>\n",
       "  <tbody>\n",
       "    <tr>\n",
       "      <th>precision</th>\n",
       "      <td>0.937076</td>\n",
       "      <td>0.937646</td>\n",
       "      <td>0.936978</td>\n",
       "    </tr>\n",
       "    <tr>\n",
       "      <th>recall</th>\n",
       "      <td>0.936893</td>\n",
       "      <td>0.937540</td>\n",
       "      <td>0.936893</td>\n",
       "    </tr>\n",
       "    <tr>\n",
       "      <th>fscore</th>\n",
       "      <td>0.936902</td>\n",
       "      <td>0.937546</td>\n",
       "      <td>0.936879</td>\n",
       "    </tr>\n",
       "    <tr>\n",
       "      <th>accuracy</th>\n",
       "      <td>0.936893</td>\n",
       "      <td>0.937540</td>\n",
       "      <td>0.936893</td>\n",
       "    </tr>\n",
       "    <tr>\n",
       "      <th>auc</th>\n",
       "      <td>0.962166</td>\n",
       "      <td>0.962461</td>\n",
       "      <td>0.962153</td>\n",
       "    </tr>\n",
       "  </tbody>\n",
       "</table>\n",
       "</div>"
      ],
      "text/plain": [
       "                 lr        l1        l2\n",
       "precision  0.937076  0.937646  0.936978\n",
       "recall     0.936893  0.937540  0.936893\n",
       "fscore     0.936902  0.937546  0.936879\n",
       "accuracy   0.936893  0.937540  0.936893\n",
       "auc        0.962166  0.962461  0.962153"
      ]
     },
     "execution_count": 54,
     "metadata": {},
     "output_type": "execute_result"
    }
   ],
   "source": [
    "#Run the metrics\n",
    "metrics_new"
   ]
  },
  {
   "cell_type": "markdown",
   "metadata": {},
   "source": [
    "## Question 13\n",
    "\n",
    "Display or plot the confusion matrix for each model."
   ]
  },
  {
   "cell_type": "code",
   "execution_count": 55,
   "metadata": {},
   "outputs": [
    {
     "data": {
      "image/png": "[encoded data removed]",
      "text/plain": [
       "<Figure size 864x720 with 7 Axes>"
      ]
     },
     "metadata": {},
     "output_type": "display_data"
    }
   ],
   "source": [
    "#plot the confusion matrix\n",
    "\n",
    "fig, axList = plt.subplots(nrows=2, ncols=2)\n",
    "axList = axList.flatten()\n",
    "fig.set_size_inches(12, 10)\n",
    "\n",
    "axList[-1].axis('off')\n",
    "\n",
    "for ax,lab in zip(axList[:-1], coeff_labels):\n",
    "    sns.heatmap(cm[lab], ax=ax, annot=True, fmt='d');\n",
    "    ax.set(title=lab);\n",
    "    \n",
    "plt.tight_layout()"
   ]
  },
  {
   "cell_type": "code",
   "execution_count": 36,
   "metadata": {},
   "outputs": [],
   "source": [
    "# Perform a comparison of the outputs between Question 7 and 12 and give your observation"
   ]
  },
  {
   "cell_type": "code",
   "execution_count": 56,
   "metadata": {},
   "outputs": [
    {
     "data": {
      "text/html": [
       "<div>\n",
       "<style scoped>\n",
       "    .dataframe tbody tr th:only-of-type {\n",
       "        vertical-align: middle;\n",
       "    }\n",
       "\n",
       "    .dataframe tbody tr th {\n",
       "        vertical-align: top;\n",
       "    }\n",
       "\n",
       "    .dataframe thead th {\n",
       "        text-align: right;\n",
       "    }\n",
       "</style>\n",
       "<table border=\"1\" class=\"dataframe\">\n",
       "  <thead>\n",
       "    <tr style=\"text-align: right;\">\n",
       "      <th></th>\n",
       "      <th>lr</th>\n",
       "      <th>l1</th>\n",
       "      <th>l2</th>\n",
       "    </tr>\n",
       "  </thead>\n",
       "  <tbody>\n",
       "    <tr>\n",
       "      <th>precision</th>\n",
       "      <td>0.981896</td>\n",
       "      <td>0.983835</td>\n",
       "      <td>0.983485</td>\n",
       "    </tr>\n",
       "    <tr>\n",
       "      <th>recall</th>\n",
       "      <td>0.981877</td>\n",
       "      <td>0.983819</td>\n",
       "      <td>0.983495</td>\n",
       "    </tr>\n",
       "    <tr>\n",
       "      <th>fscore</th>\n",
       "      <td>0.981884</td>\n",
       "      <td>0.983815</td>\n",
       "      <td>0.983488</td>\n",
       "    </tr>\n",
       "    <tr>\n",
       "      <th>accuracy</th>\n",
       "      <td>0.981877</td>\n",
       "      <td>0.983819</td>\n",
       "      <td>0.983495</td>\n",
       "    </tr>\n",
       "    <tr>\n",
       "      <th>auc</th>\n",
       "      <td>0.989014</td>\n",
       "      <td>0.990144</td>\n",
       "      <td>0.989983</td>\n",
       "    </tr>\n",
       "  </tbody>\n",
       "</table>\n",
       "</div>"
      ],
      "text/plain": [
       "                 lr        l1        l2\n",
       "precision  0.981896  0.983835  0.983485\n",
       "recall     0.981877  0.983819  0.983495\n",
       "fscore     0.981884  0.983815  0.983488\n",
       "accuracy   0.981877  0.983819  0.983495\n",
       "auc        0.989014  0.990144  0.989983"
      ]
     },
     "execution_count": 56,
     "metadata": {},
     "output_type": "execute_result"
    }
   ],
   "source": [
    "metrics"
   ]
  },
  {
   "cell_type": "code",
   "execution_count": 57,
   "metadata": {},
   "outputs": [
    {
     "data": {
      "text/html": [
       "<div>\n",
       "<style scoped>\n",
       "    .dataframe tbody tr th:only-of-type {\n",
       "        vertical-align: middle;\n",
       "    }\n",
       "\n",
       "    .dataframe tbody tr th {\n",
       "        vertical-align: top;\n",
       "    }\n",
       "\n",
       "    .dataframe thead th {\n",
       "        text-align: right;\n",
       "    }\n",
       "</style>\n",
       "<table border=\"1\" class=\"dataframe\">\n",
       "  <thead>\n",
       "    <tr style=\"text-align: right;\">\n",
       "      <th></th>\n",
       "      <th>lr</th>\n",
       "      <th>l1</th>\n",
       "      <th>l2</th>\n",
       "    </tr>\n",
       "  </thead>\n",
       "  <tbody>\n",
       "    <tr>\n",
       "      <th>precision</th>\n",
       "      <td>0.937076</td>\n",
       "      <td>0.937646</td>\n",
       "      <td>0.936978</td>\n",
       "    </tr>\n",
       "    <tr>\n",
       "      <th>recall</th>\n",
       "      <td>0.936893</td>\n",
       "      <td>0.937540</td>\n",
       "      <td>0.936893</td>\n",
       "    </tr>\n",
       "    <tr>\n",
       "      <th>fscore</th>\n",
       "      <td>0.936902</td>\n",
       "      <td>0.937546</td>\n",
       "      <td>0.936879</td>\n",
       "    </tr>\n",
       "    <tr>\n",
       "      <th>accuracy</th>\n",
       "      <td>0.936893</td>\n",
       "      <td>0.937540</td>\n",
       "      <td>0.936893</td>\n",
       "    </tr>\n",
       "    <tr>\n",
       "      <th>auc</th>\n",
       "      <td>0.962166</td>\n",
       "      <td>0.962461</td>\n",
       "      <td>0.962153</td>\n",
       "    </tr>\n",
       "  </tbody>\n",
       "</table>\n",
       "</div>"
      ],
      "text/plain": [
       "                 lr        l1        l2\n",
       "precision  0.937076  0.937646  0.936978\n",
       "recall     0.936893  0.937540  0.936893\n",
       "fscore     0.936902  0.937546  0.936879\n",
       "accuracy   0.936893  0.937540  0.936893\n",
       "auc        0.962166  0.962461  0.962153"
      ]
     },
     "execution_count": 57,
     "metadata": {},
     "output_type": "execute_result"
    }
   ],
   "source": [
    "metrics_new"
   ]
  },
  {
   "cell_type": "markdown",
   "metadata": {},
   "source": [
    "Para todos os novos modelos as métricas de erro sofreram uma redução, porém a redução do tempo de treino e de custo foi bem expressiva, dado que as features sofreram grande redução."
   ]
  },
  {
   "cell_type": "code",
   "execution_count": 2,
   "metadata": {},
   "outputs": [],
   "source": [
    "# Perform a comparison of the outputs between Question 8 and 13 and give your observation"
   ]
  },
  {
   "cell_type": "markdown",
   "metadata": {},
   "source": [
    "De acordo com as matrizes de confusão, pode-se perceber que o novo modelo teve sua qualidade de classificação reduzida, o que explica a piora nas métricas de erro, embora os resultados ainda sejam satisfatórios.\n",
    "Uma das causa pode ser que os erros foram acentuados com a retirada das features no novo modelo, já que os erros estão localizados quase nas mesmas regiões, embora em maior quantidade."
   ]
  },
  {
   "cell_type": "code",
   "execution_count": null,
   "metadata": {},
   "outputs": [],
   "source": []
  }
 ],
 "metadata": {
  "kernelspec": {
   "display_name": "Python 3 (ipykernel)",
   "language": "python",
   "name": "python3"
  },
  "language_info": {
   "codemirror_mode": {
    "name": "ipython",
    "version": 3
   },
   "file_extension": ".py",
   "mimetype": "text/x-python",
   "name": "python",
   "nbconvert_exporter": "python",
   "pygments_lexer": "ipython3",
   "version": "3.8.10"
  }
 },
 "nbformat": 4,
 "nbformat_minor": 2
}
